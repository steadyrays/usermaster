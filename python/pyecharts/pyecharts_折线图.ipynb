{
 "cells": [
  {
   "cell_type": "code",
   "execution_count": 1,
   "metadata": {},
   "outputs": [],
   "source": [
    "from pyecharts.charts import Line\n",
    "import random"
   ]
  },
  {
   "cell_type": "code",
   "execution_count": 2,
   "metadata": {},
   "outputs": [],
   "source": [
    "import pyecharts.options as opts\n",
    "from example.commons import  Faker\n",
    "from pyecharts.charts import Line"
   ]
  },
  {
   "cell_type": "code",
   "execution_count": 3,
   "metadata": {},
   "outputs": [
    {
     "data": {
      "text/plain": [
       "[23, 51, 119, 38, 39, 87, 46]"
      ]
     },
     "execution_count": 3,
     "metadata": {},
     "output_type": "execute_result"
    }
   ],
   "source": [
    "Faker.choose()# 生成列表,元素为随机的字符串\n",
    "Faker.values()# 生成列表,元素为随机的正整数"
   ]
  },
  {
   "cell_type": "code",
   "execution_count": 4,
   "metadata": {},
   "outputs": [],
   "source": [
    "def line_base() -> Line:# 注解的作用\n",
    "    c = (\n",
    "        Line()# 折线图\n",
    "        .add_xaxis(Faker.choose())# x轴坐标\n",
    "        .add_yaxis(\"商家A\", Faker.values())# 类别及y轴数据\n",
    "        .set_global_opts(\n",
    "            title_opts=opts.TitleOpts(title=\"Bar-基本示例\", subtitle=\"我是副标题\"),  \n",
    "            toolbox_opts=opts.ToolboxOpts())# 显示工具栏\n",
    "    )\n",
    "    return c"
   ]
  },
  {
   "cell_type": "code",
   "execution_count": 190,
   "metadata": {},
   "outputs": [
    {
     "data": {
      "text/plain": [
       "'C:\\\\Users\\\\87724\\\\pyecharts图形资料\\\\render.html'"
      ]
     },
     "execution_count": 190,
     "metadata": {},
     "output_type": "execute_result"
    }
   ],
   "source": [
    "line_base().render()\n"
   ]
  },
  {
   "cell_type": "code",
   "execution_count": 212,
   "metadata": {},
   "outputs": [],
   "source": [
    "attr = [\"衬衫\", \"羊毛衫\", \"雪纺衫\", \"裤子\", \"高跟鞋\", \"袜子\"]\n",
    "v1 = [random.randint(1,20) for i in range(6)]\n",
    "v2 = [random.randint(1,20) for i in range(6)]\n",
    "v3 = [random.randint(1,20) for i in range(6)]\n",
    "def line1():\n",
    "    c = (\n",
    "        Line()\n",
    "        .add_xaxis(attr)\n",
    "        .add_yaxis(\"商家A\",v1)\n",
    "        .add_yaxis(\"商家B\",v2)\n",
    "        .add_yaxis(\"商家C\",v3)\n",
    "        .set_global_opts(title_opts=opts.TitleOpts(title=\"Line-基本示例\"))\n",
    "    )\n",
    "    return c"
   ]
  },
  {
   "cell_type": "code",
   "execution_count": 213,
   "metadata": {},
   "outputs": [
    {
     "data": {
      "text/plain": [
       "'C:\\\\Users\\\\87724\\\\pyecharts图形资料\\\\render.html'"
      ]
     },
     "execution_count": 213,
     "metadata": {},
     "output_type": "execute_result"
    }
   ],
   "source": [
    "# # 自定义简易折线图\n",
    "\n",
    "# # 自定义多分类折线图\n",
    "\n",
    "line1().render()"
   ]
  },
  {
   "cell_type": "code",
   "execution_count": 5,
   "metadata": {},
   "outputs": [
    {
     "data": {
      "text/html": [
       "<script>\n",
       "    require.config({\n",
       "        paths: {\n",
       "            'echarts':'echarts.min'\n",
       "        }\n",
       "    });\n",
       "</script>\n",
       "\n",
       "    <div id=\"46d4c2ff1fe940d59a5eeac070c4755a\" style=\"width:900px; height:500px;\"></div>\n",
       "\n",
       "\n",
       "<script>\n",
       "    require(['echarts'], function(echarts) {\n",
       "        var chart_46d4c2ff1fe940d59a5eeac070c4755a = echarts.init(\n",
       "            document.getElementById('46d4c2ff1fe940d59a5eeac070c4755a'), 'light', {renderer: 'canvas'});\n",
       "        var option_46d4c2ff1fe940d59a5eeac070c4755a = {\n",
       "    \"animation\": true,\n",
       "    \"animationThreshold\": 2000,\n",
       "    \"animationDuration\": 1000,\n",
       "    \"animationEasing\": \"cubicOut\",\n",
       "    \"animationDelay\": 0,\n",
       "    \"animationDurationUpdate\": 300,\n",
       "    \"animationEasingUpdate\": \"cubicOut\",\n",
       "    \"animationDelayUpdate\": 0,\n",
       "    \"series\": [\n",
       "        {\n",
       "            \"type\": \"bar\",\n",
       "            \"name\": \"\\u5546\\u5bb6A\",\n",
       "            \"data\": [\n",
       "                5,\n",
       "                20,\n",
       "                36,\n",
       "                10,\n",
       "                75,\n",
       "                90\n",
       "            ],\n",
       "            \"barCategoryGap\": \"20%\",\n",
       "            \"label\": {\n",
       "                \"show\": true,\n",
       "                \"position\": \"top\",\n",
       "                \"margin\": 8\n",
       "            }\n",
       "        },\n",
       "        {\n",
       "            \"type\": \"bar\",\n",
       "            \"name\": \"\\u5546\\u5bb6B\",\n",
       "            \"data\": [\n",
       "                15,\n",
       "                6,\n",
       "                45,\n",
       "                20,\n",
       "                35,\n",
       "                66\n",
       "            ],\n",
       "            \"barCategoryGap\": \"20%\",\n",
       "            \"label\": {\n",
       "                \"show\": true,\n",
       "                \"position\": \"top\",\n",
       "                \"margin\": 8\n",
       "            }\n",
       "        }\n",
       "    ],\n",
       "    \"legend\": [\n",
       "        {\n",
       "            \"data\": [\n",
       "                \"\\u5546\\u5bb6A\",\n",
       "                \"\\u5546\\u5bb6B\"\n",
       "            ],\n",
       "            \"selected\": {\n",
       "                \"\\u5546\\u5bb6A\": true,\n",
       "                \"\\u5546\\u5bb6B\": true\n",
       "            },\n",
       "            \"show\": true\n",
       "        }\n",
       "    ],\n",
       "    \"tooltip\": {\n",
       "        \"show\": true,\n",
       "        \"trigger\": \"item\",\n",
       "        \"triggerOn\": \"mousemove|click\",\n",
       "        \"axisPointer\": {\n",
       "            \"type\": \"line\"\n",
       "        },\n",
       "        \"textStyle\": {\n",
       "            \"fontSize\": 14\n",
       "        },\n",
       "        \"borderWidth\": 0\n",
       "    },\n",
       "    \"xAxis\": [\n",
       "        {\n",
       "            \"show\": true,\n",
       "            \"scale\": false,\n",
       "            \"nameLocation\": \"end\",\n",
       "            \"nameGap\": 15,\n",
       "            \"gridIndex\": 0,\n",
       "            \"inverse\": false,\n",
       "            \"offset\": 0,\n",
       "            \"splitNumber\": 5,\n",
       "            \"minInterval\": 0,\n",
       "            \"splitLine\": {\n",
       "                \"show\": false,\n",
       "                \"lineStyle\": {\n",
       "                    \"width\": 1,\n",
       "                    \"opacity\": 1,\n",
       "                    \"curveness\": 0,\n",
       "                    \"type\": \"solid\"\n",
       "                }\n",
       "            },\n",
       "            \"data\": [\n",
       "                \"\\u886c\\u886b\",\n",
       "                \"\\u7f8a\\u6bdb\\u886b\",\n",
       "                \"\\u96ea\\u7eba\\u886b\",\n",
       "                \"\\u88e4\\u5b50\",\n",
       "                \"\\u9ad8\\u8ddf\\u978b\",\n",
       "                \"\\u889c\\u5b50\"\n",
       "            ]\n",
       "        }\n",
       "    ],\n",
       "    \"yAxis\": [\n",
       "        {\n",
       "            \"show\": true,\n",
       "            \"scale\": false,\n",
       "            \"nameLocation\": \"end\",\n",
       "            \"nameGap\": 15,\n",
       "            \"gridIndex\": 0,\n",
       "            \"inverse\": false,\n",
       "            \"offset\": 0,\n",
       "            \"splitNumber\": 5,\n",
       "            \"minInterval\": 0,\n",
       "            \"splitLine\": {\n",
       "                \"show\": false,\n",
       "                \"lineStyle\": {\n",
       "                    \"width\": 1,\n",
       "                    \"opacity\": 1,\n",
       "                    \"curveness\": 0,\n",
       "                    \"type\": \"solid\"\n",
       "                }\n",
       "            }\n",
       "        }\n",
       "    ],\n",
       "    \"title\": [\n",
       "        {\n",
       "            \"text\": \"\\u4e3b\\u6807\\u9898\",\n",
       "            \"subtext\": \"\\u526f\\u6807\\u9898\"\n",
       "        }\n",
       "    ]\n",
       "};\n",
       "        chart_46d4c2ff1fe940d59a5eeac070c4755a.setOption(option_46d4c2ff1fe940d59a5eeac070c4755a);\n",
       "    });\n",
       "</script>\n"
      ],
      "text/plain": [
       "<pyecharts.render.display.HTML at 0x2c97f59ceb8>"
      ]
     },
     "execution_count": 5,
     "metadata": {},
     "output_type": "execute_result"
    }
   ],
   "source": [
    "from pyecharts.charts import Bar\n",
    "from pyecharts import options as opts\n",
    "# 内置主题类型可查看 pyecharts.globals.ThemeType\n",
    "from pyecharts.globals import ThemeType\n",
    "\n",
    "bar = (\n",
    "    Bar(init_opts=opts.InitOpts(theme=ThemeType.LIGHT))\n",
    "    .add_xaxis([\"衬衫\", \"羊毛衫\", \"雪纺衫\", \"裤子\", \"高跟鞋\", \"袜子\"])\n",
    "    .add_yaxis(\"商家A\", [5, 20, 36, 10, 75, 90])\n",
    "    .add_yaxis(\"商家B\", [15, 6, 45, 20, 35, 66])\n",
    "    .set_global_opts(title_opts=opts.TitleOpts(title=\"主标题\", subtitle=\"副标题\"))\n",
    ")\n",
    "bar.render_notebook()\n"
   ]
  },
  {
   "cell_type": "code",
   "execution_count": 197,
   "metadata": {},
   "outputs": [],
   "source": [
    "# 设置平滑曲线\n",
    "def line_smooth():\n",
    "    c = (\n",
    "        Line()\n",
    "        .add_xaxis(attr)\n",
    "        .add_yaxis(\"商家A\",v1)\n",
    "        .add_yaxis(\"商家B\",v2,is_smooth=True)\n",
    "        .set_global_opts(title_opts=opts.TitleOpts(title=\"Line-smooth\"))\n",
    "    )\n",
    "    return c"
   ]
  },
  {
   "cell_type": "code",
   "execution_count": 203,
   "metadata": {},
   "outputs": [
    {
     "data": {
      "text/plain": [
       "'C:\\\\Users\\\\87724\\\\pyecharts图形资料\\\\line_smooth.html'"
      ]
     },
     "execution_count": 203,
     "metadata": {},
     "output_type": "execute_result"
    }
   ],
   "source": [
    "line_smooth().render(\"line_smooth.html\")"
   ]
  },
  {
   "cell_type": "code",
   "execution_count": 210,
   "metadata": {},
   "outputs": [],
   "source": [
    "# 添加标记线和标记点、阶梯图(可参考官网 配置项-系列配置项-MarkPointItem)\n",
    "def line_marker():\n",
    "    c = (\n",
    "        Line()\n",
    "        .add_xaxis(attr)\n",
    "#         # 给最大值的点设置标记\n",
    "#         .add_yaxis(\"商家A\",v1,\n",
    "#                    markpoint_opts=opts.MarkPointOpts(data=[opts.MarkPointItem(type_=\"max\",name=\"商家A最大值\")]))\n",
    "        \n",
    "        # 添加多个点\n",
    "#         .add_yaxis(\"商家A\",v1,\n",
    "#                    markpoint_opts=opts.MarkPointOpts(\n",
    "#                        data=[\n",
    "#                             opts.MarkPointItem(type_=\"max\", name=\"最大值\"),\n",
    "#                             opts.MarkPointItem(type_=\"min\", name=\"最小值\"),\n",
    "#                             opts.MarkPointItem(type_=\"average\", name=\"平均值\")])\n",
    "#                    )\n",
    "#         .add_yaxis(\"商家B\",v2,\n",
    "#                   markline_opts=opts.MarkLineOpts(data=[opts.MarkLineItem(type_=\"average\")]))# max min\n",
    "        \n",
    "        # 添加多条线\n",
    "        .add_yaxis(\"商家B\",v2,\n",
    "                  markline_opts=opts.MarkLineOpts(\n",
    "                      data=[\n",
    "                          opts.MarkLineItem(type_=\"average\",name=\"平均值\"),\n",
    "                          opts.MarkLineItem(type_=\"max\",name=\"最大值\"),\n",
    "                          opts.MarkLineItem(type_=\"min\")]))# max min\n",
    "        .add_yaxis(\"商家C\",v3,is_step=True)\n",
    "        \n",
    "        .set_global_opts(title_opts=opts.TitleOpts(title=\"Line-marker\"))\n",
    "    )\n",
    "    return c"
   ]
  },
  {
   "cell_type": "code",
   "execution_count": 211,
   "metadata": {},
   "outputs": [
    {
     "data": {
      "text/plain": [
       "'C:\\\\Users\\\\87724\\\\pyecharts图形资料\\\\line_smooth1.html'"
      ]
     },
     "execution_count": 211,
     "metadata": {},
     "output_type": "execute_result"
    }
   ],
   "source": [
    "line_marker().render(\"line_smooth1.html\")"
   ]
  },
  {
   "cell_type": "code",
   "execution_count": null,
   "metadata": {},
   "outputs": [],
   "source": [
    "markpoint_opts=opts.MarkPointOpts(data=[opts.MarkPointItem(type_=\"min\")])"
   ]
  },
  {
   "cell_type": "code",
   "execution_count": 31,
   "metadata": {},
   "outputs": [],
   "source": [
    "# 设置参数\n",
    "def line2(data_x,data_y,labels):\n",
    "    c = Line().set_global_opts(title_opts=opts.TitleOpts(title=\"Line-基本示例\"))\n",
    "    c.add_xaxis(data_x)\n",
    "    for a,b in zip(data_y,labels):\n",
    "        c.add_yaxis(b,a)\n",
    "    return c"
   ]
  },
  {
   "cell_type": "code",
   "execution_count": 33,
   "metadata": {},
   "outputs": [
    {
     "data": {
      "text/plain": [
       "'C:\\\\Users\\\\ibf\\\\Desktop\\\\python数据分析课件整理\\\\数据可视化\\\\render.html'"
      ]
     },
     "execution_count": 33,
     "metadata": {},
     "output_type": "execute_result"
    }
   ],
   "source": [
    "line2(attr,[v1,v2,v3],[\"商家1\",\"商家2\",\"商家3\"]).render()"
   ]
  }
 ],
 "metadata": {
  "kernelspec": {
   "display_name": "Python 3",
   "language": "python",
   "name": "python3"
  },
  "language_info": {
   "codemirror_mode": {
    "name": "ipython",
    "version": 3
   },
   "file_extension": ".py",
   "mimetype": "text/x-python",
   "name": "python",
   "nbconvert_exporter": "python",
   "pygments_lexer": "ipython3",
   "version": "3.7.3"
  }
 },
 "nbformat": 4,
 "nbformat_minor": 2
}
