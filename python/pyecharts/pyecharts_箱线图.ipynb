{
 "cells": [
  {
   "cell_type": "code",
   "execution_count": 2,
   "metadata": {},
   "outputs": [],
   "source": [
    "from pyecharts import options as opts\n",
    "from pyecharts.charts import Boxplot\n",
    "from random import randint"
   ]
  },
  {
   "cell_type": "code",
   "execution_count": 6,
   "metadata": {},
   "outputs": [
    {
     "ename": "NameError",
     "evalue": "name 'prepare_data' is not defined",
     "output_type": "error",
     "traceback": [
      "\u001b[1;31m---------------------------------------------------------------------------\u001b[0m",
      "\u001b[1;31mNameError\u001b[0m                                 Traceback (most recent call last)",
      "\u001b[1;32m<ipython-input-6-24c8426ea854>\u001b[0m in \u001b[0;36m<module>\u001b[1;34m\u001b[0m\n\u001b[0;32m      9\u001b[0m     \u001b[0mprint\u001b[0m\u001b[1;33m(\u001b[0m\u001b[0mc\u001b[0m\u001b[1;33m.\u001b[0m\u001b[0mprepare_data\u001b[0m\u001b[1;33m(\u001b[0m\u001b[0mv1\u001b[0m\u001b[1;33m)\u001b[0m\u001b[1;33m)\u001b[0m\u001b[1;33m\u001b[0m\u001b[1;33m\u001b[0m\u001b[0m\n\u001b[0;32m     10\u001b[0m     \u001b[1;32mreturn\u001b[0m \u001b[0mc\u001b[0m\u001b[1;33m\u001b[0m\u001b[1;33m\u001b[0m\u001b[0m\n\u001b[1;32m---> 11\u001b[1;33m \u001b[0mprint\u001b[0m\u001b[1;33m(\u001b[0m\u001b[0mprepare_data\u001b[0m\u001b[1;33m(\u001b[0m\u001b[0mv1\u001b[0m\u001b[1;33m)\u001b[0m\u001b[1;33m)\u001b[0m\u001b[1;33m\u001b[0m\u001b[1;33m\u001b[0m\u001b[0m\n\u001b[0m",
      "\u001b[1;31mNameError\u001b[0m: name 'prepare_data' is not defined"
     ]
    }
   ],
   "source": [
    "def boxpolt() -> Boxplot:\n",
    "    # v1 v2为嵌套列表\n",
    "    v1 =[[randint(0,100) for i in range(100)]]\n",
    "    print(v1)\n",
    "    c = Boxplot()\n",
    "    # c.prepare_data(v1)求 min 1/4位数 中位数 3/4位数 max\n",
    "    c.add_xaxis([\"变量1\"]).add_yaxis(\"A\", c.prepare_data(v1))\n",
    "    c.set_global_opts(title_opts=opts.TitleOpts(title=\"BoxPlot\"))\n",
    "    print(c.prepare_data(v1))\n",
    "    return c\n"
   ]
  },
  {
   "cell_type": "code",
   "execution_count": 4,
   "metadata": {},
   "outputs": [
    {
     "name": "stdout",
     "output_type": "stream",
     "text": [
      "[[28, 34, 49, 11, 45, 85, 16, 89, 6, 57, 78, 10, 33, 94, 30, 12, 55, 9, 52, 93, 64, 53, 44, 99, 74, 7, 80, 63, 39, 96, 12, 75, 79, 75, 62, 65, 66, 58, 26, 84, 100, 86, 62, 64, 50, 88, 27, 8, 98, 50, 46, 1, 98, 0, 35, 70, 10, 35, 45, 65, 72, 26, 33, 86, 73, 19, 59, 6, 36, 4, 87, 32, 57, 74, 65, 100, 57, 60, 11, 47, 95, 94, 28, 68, 12, 27, 20, 64, 48, 22, 100, 64, 32, 25, 84, 3, 28, 25, 89, 39]]\n",
      "[[0, 27.0, 52.5, 74.75, 100]]\n"
     ]
    },
    {
     "data": {
      "text/plain": [
       "'C:\\\\Users\\\\87724\\\\pyecharts图形资料\\\\render.html'"
      ]
     },
     "execution_count": 4,
     "metadata": {},
     "output_type": "execute_result"
    }
   ],
   "source": [
    "boxpolt().render()"
   ]
  },
  {
   "cell_type": "code",
   "execution_count": null,
   "metadata": {},
   "outputs": [],
   "source": []
  },
  {
   "cell_type": "code",
   "execution_count": null,
   "metadata": {},
   "outputs": [],
   "source": []
  },
  {
   "cell_type": "code",
   "execution_count": 7,
   "metadata": {},
   "outputs": [],
   "source": [
    "def boxpolt_base() -> Boxplot:\n",
    "    # v1 v2为嵌套列表\n",
    "    v1 = [\n",
    "        [850, 740, 900, 1070, 930, 850, 950, 980, 980, 880]\n",
    "        + [1000, 980, 930, 650, 760, 810, 1000, 1000, 960, 960],\n",
    "        [960, 940, 960, 940, 880, 800, 850, 880, 900]\n",
    "        + [840, 830, 790, 810, 880, 880, 830, 800, 790, 760, 800],\n",
    "    ]\n",
    "    v2 = [\n",
    "        [890, 810, 810, 820, 800, 770, 760, 740, 750, 760]\n",
    "        + [910, 920, 890, 860, 880, 720, 840, 850, 850, 780],\n",
    "        [890, 840, 780, 810, 760, 810, 790, 810, 820, 850, 870]\n",
    "        + [870, 810, 740, 810, 940, 950, 800, 810, 870],\n",
    "    ]\n",
    "    c = Boxplot()\n",
    "    c.add_xaxis([\"变量1\", \"变量2\"]).add_yaxis(\"A\", c.prepare_data(v1)).add_yaxis(\n",
    "        \"B\", c.prepare_data(v2)\n",
    "    ).set_global_opts(title_opts=opts.TitleOpts(title=\"BoxPlot-基本示例\"))\n",
    "    return c"
   ]
  },
  {
   "cell_type": "code",
   "execution_count": 8,
   "metadata": {},
   "outputs": [
    {
     "data": {
      "text/plain": [
       "'C:\\\\Users\\\\87724\\\\pyecharts图形资料\\\\render.html'"
      ]
     },
     "execution_count": 8,
     "metadata": {},
     "output_type": "execute_result"
    }
   ],
   "source": [
    "boxpolt_base().render()"
   ]
  },
  {
   "cell_type": "code",
   "execution_count": 4,
   "metadata": {},
   "outputs": [],
   "source": [
    "# https://pyecharts.org/#/zh-cn/rectangular_charts?id=line%ef%bc%9a%e6%8a%98%e7%ba%bf%e9%9d%a2%e7%a7%af%e5%9b%be"
   ]
  },
  {
   "cell_type": "code",
   "execution_count": null,
   "metadata": {},
   "outputs": [],
   "source": []
  },
  {
   "cell_type": "code",
   "execution_count": null,
   "metadata": {},
   "outputs": [],
   "source": []
  }
 ],
 "metadata": {
  "kernelspec": {
   "display_name": "Python 3",
   "language": "python",
   "name": "python3"
  },
  "language_info": {
   "codemirror_mode": {
    "name": "ipython",
    "version": 3
   },
   "file_extension": ".py",
   "mimetype": "text/x-python",
   "name": "python",
   "nbconvert_exporter": "python",
   "pygments_lexer": "ipython3",
   "version": "3.7.3"
  }
 },
 "nbformat": 4,
 "nbformat_minor": 2
}
